{
 "cells": [
  {
   "cell_type": "markdown",
   "metadata": {
    "id": "xrlMavQOr2rB"
   },
   "source": [
    "# Assignment 16"
   ]
  },
  {
   "cell_type": "markdown",
   "metadata": {
    "colab_type": "toc",
    "id": "XV07CWvJsE4g"
   },
   "source": [
    ">[Assignment 16](#folderId=15ajXxXKSOQRXfo4h9HDkwJ7rp-GhJhaX&updateTitle=true&scrollTo=xrlMavQOr2rB)\n",
    "\n",
    ">>>[Imports and Installations](#folderId=15ajXxXKSOQRXfo4h9HDkwJ7rp-GhJhaX&updateTitle=true&scrollTo=0CD1unLcyW4l)\n",
    "\n",
    ">>>[Question 1](#folderId=15ajXxXKSOQRXfo4h9HDkwJ7rp-GhJhaX&updateTitle=true&scrollTo=jAY2_KhF5t7N)\n",
    "\n",
    ">>>>[Section A](#folderId=15ajXxXKSOQRXfo4h9HDkwJ7rp-GhJhaX&updateTitle=true&scrollTo=ODe6Uw8V6HBn)\n",
    "\n",
    ">>>>[Section B](#folderId=15ajXxXKSOQRXfo4h9HDkwJ7rp-GhJhaX&updateTitle=true&scrollTo=XM_SAsNM7GkT)\n",
    "\n",
    ">>>>[Sections C and D](#folderId=15ajXxXKSOQRXfo4h9HDkwJ7rp-GhJhaX&updateTitle=true&scrollTo=Kr-vISj_9jAi)\n",
    "\n",
    ">>[Question 2](#folderId=15ajXxXKSOQRXfo4h9HDkwJ7rp-GhJhaX&updateTitle=true&scrollTo=pii3AK21MSOa)\n",
    "\n",
    ">>>>[Understanding the Flow-Control RNN](#folderId=15ajXxXKSOQRXfo4h9HDkwJ7rp-GhJhaX&updateTitle=true&scrollTo=_NQ-aqlGNvZ1)\n",
    "\n",
    ">>>>[Design Motivation](#folderId=15ajXxXKSOQRXfo4h9HDkwJ7rp-GhJhaX&updateTitle=true&scrollTo=A1Ovx1nLmZt1)\n",
    "\n"
   ]
  },
  {
   "cell_type": "markdown",
   "metadata": {
    "id": "0CD1unLcyW4l"
   },
   "source": [
    "### Imports and Installations"
   ]
  },
  {
   "cell_type": "code",
   "execution_count": 1,
   "metadata": {
    "collapsed": true,
    "id": "4rmkW1WB0etN",
    "jupyter": {
     "outputs_hidden": true
    }
   },
   "outputs": [],
   "source": [
    "# from IPython.utils import capture\n",
    "\n",
    "# with capture.capture_output() as captured:\n",
    "#     !pip install torchtext==0.17.2\n",
    "#     !pip install -U datasets"
   ]
  },
  {
   "cell_type": "code",
   "execution_count": null,
   "metadata": {
    "collapsed": true,
    "id": "6pTbERAGL_Kr",
    "jupyter": {
     "outputs_hidden": true
    }
   },
   "outputs": [],
   "source": [
    "!pip install torchtext==0.17.2\n",
    "!pip install -U datasets"
   ]
  },
  {
   "cell_type": "code",
   "execution_count": null,
   "metadata": {
    "collapsed": true,
    "id": "M_2mMRGHyd_d",
    "jupyter": {
     "outputs_hidden": true
    }
   },
   "outputs": [],
   "source": [
    "import torch\n",
    "from torch.utils.data import DataLoader, Dataset\n",
    "import torch.optim as optim\n",
    "from torch import nn\n",
    "import datasets as ds\n",
    "import torchtext\n",
    "from torchtext.vocab import build_vocab_from_iterator\n",
    "from datasets import load_dataset\n",
    "from pprint import pprint\n",
    "import numpy as np\n",
    "import matplotlib.pyplot as plt"
   ]
  },
  {
   "cell_type": "code",
   "execution_count": 4,
   "metadata": {
    "id": "tlOZoRt794R7"
   },
   "outputs": [],
   "source": [
    "def get_device():\n",
    "    # Check for CUDA\n",
    "    if torch.cuda.is_available():\n",
    "        return \"cuda\"\n",
    "    # Check for MPS\n",
    "    elif torch.backends.mps.is_available():\n",
    "        return \"mps\"\n",
    "    # Default to CPU\n",
    "    else:\n",
    "        return \"cpu\""
   ]
  },
  {
   "cell_type": "markdown",
   "metadata": {
    "id": "jAY2_KhF5t7N"
   },
   "source": [
    "### Question 1"
   ]
  },
  {
   "cell_type": "markdown",
   "metadata": {
    "id": "ODe6Uw8V6HBn"
   },
   "source": [
    "#### Section A\n",
    "\n",
    "Load and Process the SST-2 Dataset:"
   ]
  },
  {
   "cell_type": "code",
   "execution_count": null,
   "metadata": {
    "id": "egRYryAa24_m"
   },
   "outputs": [],
   "source": [
    "dataset = load_dataset(\"glue\", \"sst2\")\n",
    "train_set = dataset[\"train\"][:1500]\n",
    "validation_set = dataset[\"validation\"][:500]\n",
    "test_set = dataset[\"test\"]"
   ]
  },
  {
   "cell_type": "code",
   "execution_count": 6,
   "metadata": {
    "id": "msT8wPzD6qut"
   },
   "outputs": [],
   "source": [
    "# Tokenize and convert to tensor\n",
    "def tokenize_and_convert(sentences, vocab, max_len=50):\n",
    "    tokenized = [torch.tensor([vocab[token] for token in sentence.split()]) for sentence in sentences]\n",
    "    padded = torch.zeros(len(sentences), max_len, dtype=torch.long)\n",
    "    lengths = torch.zeros(len(sentences), dtype=torch.long)\n",
    "    for i, tokens in enumerate(tokenized):\n",
    "        length = min(len(tokens), max_len)\n",
    "        padded[i, :length] = tokens[:length]\n",
    "        lengths[i] = length\n",
    "    return padded, lengths"
   ]
  },
  {
   "cell_type": "code",
   "execution_count": 7,
   "metadata": {
    "id": "pmw3p1Q26nwm"
   },
   "outputs": [],
   "source": [
    "vocab = build_vocab_from_iterator(\n",
    "    map(str.split, train_set[\"sentence\"]), specials=[\"<unk>\"], min_freq=5\n",
    ")\n",
    "vocab.set_default_index(vocab[\"<unk>\"])"
   ]
  },
  {
   "cell_type": "code",
   "execution_count": 8,
   "metadata": {
    "id": "ykiIfMCZOZDd"
   },
   "outputs": [],
   "source": [
    "train_sentences, train_lengths = tokenize_and_convert(train_set[\"sentence\"], vocab)\n",
    "train_labels = torch.tensor(train_set[\"label\"], dtype=torch.long)"
   ]
  },
  {
   "cell_type": "code",
   "execution_count": 9,
   "metadata": {
    "id": "tblECqCw6nzQ"
   },
   "outputs": [],
   "source": [
    "# Custom Dataset class\n",
    "class SST2Dataset(Dataset):\n",
    "    def __init__(self, data, vocab):\n",
    "        self.sentences = [str(s).split() for s in data[\"sentence\"]]\n",
    "        self.labels = data[\"label\"]\n",
    "        self.vocab = vocab\n",
    "\n",
    "    def __len__(self):\n",
    "        return len(self.sentences)\n",
    "\n",
    "    def __getitem__(self, idx):\n",
    "        sentence = [self.vocab[token] for token in self.sentences[idx]]\n",
    "        label = self.labels[idx]\n",
    "        return torch.tensor(sentence, dtype=torch.long), torch.tensor(label, dtype=torch.long)\n",
    "\n",
    "# Collate function for padding\n",
    "def collate_fn(batch):\n",
    "    sentences, labels = zip(*batch)\n",
    "    lengths = [len(s) for s in sentences]\n",
    "    padded_sentences = nn.utils.rnn.pad_sequence(sentences, batch_first=True, padding_value=0)\n",
    "    return padded_sentences, torch.tensor(labels), torch.tensor(lengths)"
   ]
  },
  {
   "cell_type": "code",
   "execution_count": 10,
   "metadata": {
    "id": "yu4D8QGK6n4F"
   },
   "outputs": [],
   "source": [
    "# Create data loader\n",
    "train_dataset = SST2Dataset(train_set, vocab)\n",
    "train_loader = DataLoader(train_dataset, batch_size=32, shuffle=True, collate_fn=collate_fn)"
   ]
  },
  {
   "cell_type": "markdown",
   "metadata": {
    "id": "XM_SAsNM7GkT"
   },
   "source": [
    "#### Section B\n",
    "\n",
    "We now define the RNN classifier:\n",
    "\n",
    "---\n",
    "\n",
    "**Model Overview:**\n",
    "\n",
    "- The model uses `nn.RNNCell` for manual unrolling for control over gradient truncation.\n",
    "- The `forward` method processes sequences token by token, applies a mask for padding, and detaches the hidden state at `T - t` to limit BPTT.\n",
    "- Gradient norms are saved via a hook on `h_t`, and a plotting function visualizes them.\n",
    "- the hook only for time steps where gradients are tracked (i.e., after `T - t`), or ensure gradients are collected correctly by checking the hook's behavior.\n",
    "- The detachment occurs at `i == max_len - self.t` for limiting BPTT to the last `t` time steps. We verify that `max_len` is correctly derived from `lengths.max().item()` and that `self.t` is appropriately set.\n"
   ]
  },
  {
   "cell_type": "code",
   "execution_count": 11,
   "metadata": {
    "id": "CHuRCT596901"
   },
   "outputs": [],
   "source": [
    "# Define RNNClassifier\n",
    "class RNNClassifier(nn.Module):\n",
    "    def __init__(self, vocab_size: int, embed_dim: int, hidden_dim: int, num_classes: int, t: int = 10):\n",
    "        super(RNNClassifier, self).__init__()\n",
    "        self.embedding = nn.Embedding(vocab_size, embed_dim, padding_idx=0)\n",
    "        self.rnn_cell = nn.RNNCell(embed_dim, hidden_dim)\n",
    "        self.fc = nn.Linear(hidden_dim, num_classes)\n",
    "        self.grads = []\n",
    "        self.t = t\n",
    "\n",
    "    def forward(self, x: torch.Tensor, lengths: torch.Tensor):\n",
    "        \"\"\"\n",
    "        x: Tensor of shape (batch_size, seq_len)\n",
    "        lengths: Tensor of shape (batch_size) with sequence lengths\n",
    "        Returns: Logits of shape (batch_size, num_classes)\n",
    "        \"\"\"\n",
    "        self.grads = []  # Reset gradients list\n",
    "        batch_size, seq_len = x.size()\n",
    "        embedded = self.embedding(x)  # (batch_size, seq_len, embed_dim)\n",
    "        h_t = torch.zeros(batch_size, self.rnn_cell.hidden_size, device=x.device)\n",
    "\n",
    "        max_len = lengths.max().item()\n",
    "        for i in range(max_len):\n",
    "            mask = (i < lengths).float().unsqueeze(1)  # (batch_size, 1)\n",
    "            input_t = embedded[:, i, :]  # (batch_size, embed_dim)\n",
    "            h_t_next = self.rnn_cell(input_t, h_t)\n",
    "            h_t = mask * h_t_next + (1 - mask) * h_t  # Preserve h_t for padded tokens\n",
    "\n",
    "            # Register hook only for steps where gradients are tracked\n",
    "            if self.training and i >= max(0, max_len - self.t):\n",
    "                h_t.register_hook(lambda grad: self.grads.append(grad.norm().item()))\n",
    "\n",
    "            # Detach hidden state at T - t to truncate BPTT\n",
    "            if i == max_len - self.t - 1 and max_len > self.t:\n",
    "                h_t = h_t.detach()\n",
    "\n",
    "        logits = self.fc(h_t)  # (batch_size, num_classes)\n",
    "        return logits\n",
    "\n",
    "    def plot_grads(self, seq_len):\n",
    "        plt.figure(figsize=(8, 6))\n",
    "        plot_len = len(self.grads)\n",
    "        if plot_len == 0:\n",
    "            print(\"No gradients recorded.\")\n",
    "            return\n",
    "        # Plot gradients for the last t steps\n",
    "        plt.plot(range(seq_len - plot_len, seq_len), self.grads, 'o-', label='Gradient Norm')\n",
    "        plt.axvline(x=max(0, seq_len - self.t), color='r', linestyle='--',\n",
    "                    label=f'T - t = {max(0, seq_len - self.t)}\\n(t={self.t})')\n",
    "        plt.xlabel(\"Time Step\")\n",
    "        plt.ylabel(\"Gradient Norm\")\n",
    "        plt.title(f\"Gradient Size for Sequence Length {seq_len}\")\n",
    "        plt.grid(True)\n",
    "        plt.legend()\n",
    "        plt.show()\n"
   ]
  },
  {
   "cell_type": "markdown",
   "metadata": {
    "id": "Kr-vISj_9jAi"
   },
   "source": [
    "#### Sections C and D\n",
    "\n",
    "We now train the model:"
   ]
  },
  {
   "cell_type": "code",
   "execution_count": 12,
   "metadata": {
    "id": "u09X0Ndc695m"
   },
   "outputs": [],
   "source": [
    "def train_and_plot(model, sentences, lengths, labels, seq_len, epochs=1):\n",
    "    optimizer = torch.optim.Adam(model.parameters(), lr=0.001)\n",
    "    criterion = nn.CrossEntropyLoss()\n",
    "    model.train()\n",
    "\n",
    "    for epoch in range(epochs):\n",
    "        optimizer.zero_grad()\n",
    "        logits = model(sentences, lengths)\n",
    "        loss = criterion(logits, labels)\n",
    "        loss.backward()\n",
    "        optimizer.step()\n",
    "\n",
    "    model.plot_grads(seq_len)"
   ]
  },
  {
   "cell_type": "code",
   "execution_count": 13,
   "metadata": {
    "id": "OZpMA0t3693R"
   },
   "outputs": [],
   "source": [
    "# Model parameters\n",
    "vocab_size = len(vocab)\n",
    "embed_dim = 50\n",
    "hidden_dim = 100\n",
    "lr = 0.001 # Learning rate\n",
    "num_classes = 2  # Binary classification\n",
    "t = 10"
   ]
  },
  {
   "cell_type": "code",
   "execution_count": 14,
   "metadata": {
    "colab": {
     "base_uri": "https://localhost:8080/"
    },
    "id": "g55ta_Jr6978",
    "outputId": "d7fadde3-89f9-4e65-d2cb-2d39a02ef2c3"
   },
   "outputs": [
    {
     "data": {
      "text/plain": [
       "RNNClassifier(\n",
       "  (embedding): Embedding(379, 50, padding_idx=0)\n",
       "  (rnn_cell): RNNCell(50, 100)\n",
       "  (fc): Linear(in_features=100, out_features=2, bias=True)\n",
       ")"
      ]
     },
     "execution_count": 14,
     "metadata": {},
     "output_type": "execute_result"
    }
   ],
   "source": [
    "device = get_device()\n",
    "\n",
    "model = RNNClassifier(vocab_size=len(vocab), embed_dim=embed_dim, hidden_dim=hidden_dim, num_classes=num_classes, t=t)\n",
    "model.to(device)"
   ]
  },
  {
   "cell_type": "code",
   "execution_count": 15,
   "metadata": {
    "id": "FwUqEmKJPNIA"
   },
   "outputs": [],
   "source": [
    "# Use a small batch for demonstration\n",
    "batch_size = 32\n",
    "batch_sentences = train_sentences[:batch_size].to(device)\n",
    "batch_lengths = train_lengths[:batch_size].to(device)\n",
    "batch_labels = train_labels[:batch_size].to(device)\n",
    "max_len = batch_lengths.max().item()"
   ]
  },
  {
   "cell_type": "markdown",
   "metadata": {
    "id": "kzOTVQbJPYfJ"
   },
   "source": [
    "**Expected Output:**\n",
    "\n",
    "- The plot should show gradient norms for the last `t` time steps (e.g., if `t=10` and `max_len=20`, gradients from time steps 10 to 19).\n",
    "- A red dashed line at `T - t` (time step 10) indicates where gradients are truncated.\n",
    "- Gradient norms before `T - t` should be zero (or not plotted), confirming that detachment prevents gradient propagation."
   ]
  },
  {
   "cell_type": "code",
   "execution_count": 16,
   "metadata": {
    "colab": {
     "base_uri": "https://localhost:8080/",
     "height": 564
    },
    "id": "O5evkib36-A4",
    "outputId": "f6e2d836-2ccd-4cd7-ece2-ed13c179d182"
   },
   "outputs": [
    {
     "data": {
      "image/png": "[encoded data removed]",
      "text/plain": [
       "<Figure size 800x600 with 1 Axes>"
      ]
     },
     "metadata": {},
     "output_type": "display_data"
    }
   ],
   "source": [
    "train_and_plot(model, batch_sentences, batch_lengths, batch_labels, max_len)"
   ]
  },
  {
   "cell_type": "markdown",
   "metadata": {
    "id": "VWINo9pXQ5xT"
   },
   "source": [
    "We can see that it works as expected."
   ]
  },
  {
   "cell_type": "markdown",
   "metadata": {
    "id": "pii3AK21MSOa"
   },
   "source": [
    "## Question 2\n",
    "\n",
    "We now implement a flow-control RNN. We need to incorporate a candidate hidden state, a reset mechanism, and train it on a small dataset.\n"
   ]
  },
  {
   "cell_type": "markdown",
   "metadata": {
    "id": "TLCjB3y0mGfh"
   },
   "source": [
    "We now load and process SST-2 dataset. We want a small subset for overfitting."
   ]
  },
  {
   "cell_type": "code",
   "execution_count": 17,
   "metadata": {
    "id": "aRkKPO0algd2"
   },
   "outputs": [],
   "source": [
    "# Load and process SST-2 dataset - we want a small subset for overfitting\n",
    "dataset = load_dataset(\"glue\", \"sst2\")\n",
    "train_set = dataset[\"train\"][:500]\n",
    "validation_set = dataset[\"validation\"][:100]\n",
    "\n",
    "# Build vocabulary\n",
    "vocab = build_vocab_from_iterator(\n",
    "    map(str.split, train_set[\"sentence\"]), specials=[\"<unk>\", \"<pad>\"], min_freq=5\n",
    ")\n",
    "vocab.set_default_index(vocab[\"<unk>\"])\n",
    "\n",
    "# Tokenize and convert to tensors\n",
    "def tokenize_and_convert(sentences, vocab, max_len=50):\n",
    "    tokenized = [torch.tensor([vocab[token] for token in sentence.split()]) for sentence in sentences]\n",
    "    padded = torch.zeros(len(sentences), max_len, dtype=torch.long)\n",
    "    lengths = torch.zeros(len(sentences), dtype=torch.long)\n",
    "    for i, tokens in enumerate(tokenized):\n",
    "        length = min(len(tokens), max_len)\n",
    "        padded[i, :length] = tokens[:length]\n",
    "        lengths[i] = length\n",
    "    return padded, lengths"
   ]
  },
  {
   "cell_type": "code",
   "execution_count": 18,
   "metadata": {
    "id": "kU8MzDIomRW3"
   },
   "outputs": [],
   "source": [
    "train_sentences, train_lengths = tokenize_and_convert(train_set[\"sentence\"], vocab)\n",
    "train_labels = torch.tensor(train_set[\"label\"], dtype=torch.long)\n",
    "val_sentences, val_lengths = tokenize_and_convert(validation_set[\"sentence\"], vocab)\n",
    "val_labels = torch.tensor(validation_set[\"label\"], dtype=torch.long)"
   ]
  },
  {
   "cell_type": "markdown",
   "metadata": {
    "id": "_NQ-aqlGNvZ1"
   },
   "source": [
    "#### Understanding the `Flow-Control RNN`\n",
    "\n",
    "- **Candidate Hidden State $(\\hat{h}_t)$**: Computed as in an Elman RNN, i.e., $\\hat{h}_t = \\tanh(W_h x_t + U_h h_{t-1} + b_h)$, where $x_t$ is the input token, $h_{t-1}$ is the previous hidden state, and $W_h$, $U_h$, $b_h$ are learnable parameters.\n",
    "- **Reset State ($R_t$)**: A new hidden state computed solely from the current input token $x_t$, i.e., $R_t = f(W_r x_t + b_r)$, where $f$ is an activation function and $W_r$, $b_r$ are learnable parameters.\n",
    "- **Next Hidden State**: The hidden state passed to the next time step is $h_t = \\hat{h}_t \\cdot R_t$, where $\\cdot$ denotes element-wise multiplication.\n",
    "- **Forgetting Mechanism**: The reset state $R_t$ should allow the network to “forget” the hidden state when appropriate, meaning $R_t$ should produce values close to 0 for certain inputs to nullify $\\hat{h}_t$.\n",
    "\n"
   ]
  },
  {
   "cell_type": "markdown",
   "metadata": {
    "id": "A1Ovx1nLmZt1"
   },
   "source": [
    "#### Design Motivation\n",
    "\n",
    "**Forgetting Mechanism**:\n",
    "\n",
    "- **Implementation**: The reset state $R_t$ should act as a gate, producing values in $[0, 1]$ (or close to it) to scale the candidate hidden state $\\hat{h}_t$. When $R_t \\approx 0$, the hidden state $h_t$ is effectively “forgotten” (set close to zero), preventing the previous state from influencing the next time step. When $R_t \\approx 1$, the candidate state is passed through unchanged.\n",
    "\n",
    "- **Justification**: This gating mechanism is inspired by modern RNN architectures like LSTMs and GRUs, where gates (e.g., forget gate in LSTM) control information flow. Allowing the network to learn which inputs trigger forgetting (via $R_t$) gives it flexibility to adapt to the task, rather than hard-coding specific tokens as reset triggers.\n",
    "\n",
    "**Activation Function for $R_t$**:\n",
    "- **Choice**: Sigmoid activation ($\\sigma(x) = \\frac{1}{1 + e^{-x}}$).\n",
    "\n",
    "**Justifications:**\n",
    "- The sigmoid function outputs values in $[0, 1]$, which is ideal for a gating mechanism where $R_t$ needs to scale $\\hat{h}_t$ between fully retaining ($R_t = 1$) and fully forgetting ($R_t = 0$).\n",
    "- Sigmoid is differentiable, ensuring gradients can flow during backpropagation.\n",
    "- Alternatives like ReLU $[0, \\infty)$ or tanh ($[-1, 1]$) are less suitable: ReLU can produce unbounded values, complicating the gating interpretation, while tanh allows negative values, which could invert the hidden state's sign, potentially introducing instability or unintended behavior.\n",
    "\n",
    "**Calculation of $R_t$**:\n",
    "\n",
    "- **Implementation**: $R_t = \\sigma(W_r x_t + b_r)$, where $x_t$ is the embedded input token, $W_r$ is a weight matrix, and $b_r$ is a bias.\n",
    "- **Justification:**Computing $R_t$ solely from $x_t$ ensures the reset decision is based on the current token, as specified. This allows the network to learn token-specific reset patterns.\n"
   ]
  },
  {
   "cell_type": "code",
   "execution_count": 19,
   "metadata": {
    "id": "QXYJByarmWP9"
   },
   "outputs": [],
   "source": [
    "# Flow-Control RNN Cell\n",
    "class FlowControlRNNCell(nn.Module):\n",
    "    def __init__(self, input_dim: int, hidden_dim: int):\n",
    "        super(FlowControlRNNCell, self).__init__()\n",
    "        # For candidate hidden state: h_hat_t = tanh(W_h x_t + U_h h_{t-1} + b_h)\n",
    "        self.W_h = nn.Linear(input_dim, hidden_dim)\n",
    "        self.U_h = nn.Linear(hidden_dim, hidden_dim, bias=False)\n",
    "        self.b_h = nn.Parameter(torch.zeros(hidden_dim))\n",
    "        # For reset state: R_t = sigmoid(W_r x_t + b_r)\n",
    "        self.W_r = nn.Linear(input_dim, hidden_dim)\n",
    "        self.b_r = nn.Parameter(torch.zeros(hidden_dim))\n",
    "        self.tanh = nn.Tanh()\n",
    "        self.sigmoid = nn.Sigmoid()\n",
    "\n",
    "    def forward(self, x_t: torch.Tensor, h_prev: torch.Tensor):\n",
    "        \"\"\"\n",
    "        x_t: Input at time t (batch_size, input_dim)\n",
    "        h_prev: Previous hidden state (batch_size, hidden_dim)\n",
    "        Returns: h_t (batch_size, hidden_dim)\n",
    "        \"\"\"\n",
    "        # Candidate hidden state\n",
    "        h_hat_t = self.tanh(self.W_h(x_t) + self.U_h(h_prev) + self.b_h)\n",
    "        # Reset state\n",
    "        R_t = self.sigmoid(self.W_r(x_t) + self.b_r)\n",
    "        # Flow-control: h_t = h_hat_t * R_t\n",
    "        h_t = h_hat_t * R_t\n",
    "        return h_t"
   ]
  },
  {
   "cell_type": "code",
   "execution_count": 20,
   "metadata": {
    "id": "mgtzX8N6KhFn"
   },
   "outputs": [],
   "source": [
    "# RNN Classifier using FlowControlRNNCell\n",
    "class FlowControlRNN(nn.Module):\n",
    "    def __init__(self, vocab_size: int, embed_dim: int, hidden_dim: int, num_classes: int):\n",
    "        super(FlowControlRNN, self).__init__()\n",
    "        self.embedding = nn.Embedding(vocab_size, embed_dim, padding_idx=vocab[\"<pad>\"])\n",
    "        self.rnn_cell = FlowControlRNNCell(embed_dim, hidden_dim)\n",
    "        self.fc = nn.Linear(hidden_dim, num_classes)\n",
    "\n",
    "    def forward(self, x: torch.Tensor, lengths: torch.Tensor) -> torch.Tensor:\n",
    "        \"\"\"\n",
    "        x: Tensor of shape (batch_size, seq_len)\n",
    "        lengths: Tensor of shape (batch_size) with sequence lengths\n",
    "        Returns: Logits of shape (batch_size, num_classes)\n",
    "        \"\"\"\n",
    "        batch_size, seq_len = x.size()\n",
    "        embedded = self.embedding(x)  # (batch_size, seq_len, embed_dim)\n",
    "        h_t = torch.zeros(batch_size, self.rnn_cell.W_h.out_features, device=x.device)\n",
    "\n",
    "        max_len = lengths.max().item()\n",
    "        for i in range(max_len):\n",
    "            mask = (i < lengths).float().unsqueeze(1)  # (batch_size, 1)\n",
    "            input_t = embedded[:, i, :]  # (batch_size, embed_dim)\n",
    "            h_t_next = self.rnn_cell(input_t, h_t)\n",
    "            h_t = mask * h_t_next + (1 - mask) * h_t  # Preserve h_t for padded tokens\n",
    "\n",
    "        logits = self.fc(h_t)  # (batch_size, num_classes)\n",
    "        return logits"
   ]
  },
  {
   "cell_type": "code",
   "execution_count": 30,
   "metadata": {
    "id": "i2NB5GBJmzqL"
   },
   "outputs": [],
   "source": [
    "# Training and evaluation function\n",
    "def train_and_evaluate(model, train_data, train_lengths, train_labels, val_data, val_lengths, val_labels, epochs=50, batch_size=32, plot_graph=True):\n",
    "    device = get_device()\n",
    "    model.to(device)\n",
    "    optimizer = torch.optim.Adam(model.parameters(), lr=0.001)\n",
    "    criterion = nn.CrossEntropyLoss()\n",
    "\n",
    "    train_losses, val_losses, train_accuracies, val_accuracies = [], [], [], []\n",
    "\n",
    "    for epoch in range(epochs):\n",
    "        model.train()\n",
    "        total_train_loss = 0\n",
    "        correct_train, total_train = 0, 0\n",
    "        for i in range(0, len(train_data), batch_size):\n",
    "            batch_sentences = train_data[i:i+batch_size].to(device)\n",
    "            batch_lengths = train_lengths[i:i+batch_size].to(device)\n",
    "            batch_labels = train_labels[i:i+batch_size].to(device)\n",
    "\n",
    "            optimizer.zero_grad()\n",
    "            logits = model(batch_sentences, batch_lengths)\n",
    "            loss = criterion(logits, batch_labels)\n",
    "            loss.backward()\n",
    "            optimizer.step()\n",
    "            total_train_loss += loss.item()\n",
    "\n",
    "            _, predicted = torch.max(logits, 1)\n",
    "            total_train += batch_labels.size(0)\n",
    "            correct_train += (predicted == batch_labels).sum().item()\n",
    "\n",
    "\n",
    "        avg_train_loss = total_train_loss / (len(train_data) // batch_size) ###\n",
    "        train_losses.append(avg_train_loss)\n",
    "        train_accuracy = correct_train / total_train\n",
    "        train_accuracies.append(train_accuracy)\n",
    "\n",
    "        # Evaluate on validation set\n",
    "        model.eval()\n",
    "        total_val_loss = 0\n",
    "        correct_val, total_val = 0, 0\n",
    "        with torch.no_grad():\n",
    "            for i in range(0, len(val_data), batch_size):\n",
    "                batch_sentences = val_data[i:i+batch_size].to(device)\n",
    "                batch_lengths = val_lengths[i:i+batch_size].to(device)\n",
    "                batch_labels = val_labels[i:i+batch_size].to(device)\n",
    "                logits = model(batch_sentences, batch_lengths)\n",
    "                loss = criterion(logits, batch_labels)\n",
    "                total_val_loss += loss.item()\n",
    "                _, predicted = torch.max(logits, 1)\n",
    "                total_val += batch_labels.size(0)\n",
    "                correct_val += (predicted == batch_labels).sum().item()\n",
    "\n",
    "        avg_val_loss = total_val_loss / (len(val_data) // batch_size)\n",
    "        val_losses.append(avg_val_loss)\n",
    "        val_accuracy = correct_val / total_val\n",
    "        val_accuracies.append(val_accuracy)\n",
    "\n",
    "\n",
    "        print(f\"[Epoch {epoch+1}/{epochs}] [Train Loss: {avg_train_loss:.4f}  Val Loss: {avg_val_loss:.4f}] [Train Acc: {100 * train_accuracy:.2f}%  Val Acc: {100 * val_accuracy:.2f}%]\")\n",
    "\n",
    "        # Check for overfitting\n",
    "        if epoch > 10 and val_accuracies[-1] > 0.95 and train_losses[-1] < 0.1:\n",
    "            print(\"Overfitting detected, stopping training.\")\n",
    "            break\n",
    "\n",
    "    if plot_graph:\n",
    "        # Plot training and validation loss and accuracy\n",
    "        plt.figure(figsize=(10, 5))\n",
    "        plt.subplot(1, 2, 1)\n",
    "        plt.plot(train_losses, label=\"Train Loss\")\n",
    "        plt.plot(val_losses, label=\"Validation Loss\")\n",
    "        plt.xlabel(\"Epoch\")\n",
    "        plt.ylabel(\"Loss\")\n",
    "        plt.title(\"Training and Validation Loss\")\n",
    "        plt.legend()\n",
    "        plt.grid(True)\n",
    "\n",
    "        plt.subplot(1, 2, 2)\n",
    "        plt.plot(train_accuracies, label=\"Train Accuracy\")\n",
    "        plt.plot(val_accuracies, label=\"Validation Accuracy\")\n",
    "        plt.xlabel(\"Epoch\")\n",
    "        plt.ylabel(\"Accuracy\")\n",
    "        plt.title(\"Training and Validation Accuracy\")\n",
    "        plt.legend()\n",
    "        plt.grid(True)\n",
    "        plt.tight_layout()\n",
    "        plt.show()"
   ]
  },
  {
   "cell_type": "markdown",
   "metadata": {
    "id": "OrWQD9Yxm534"
   },
   "source": [
    "Now let's run the model:"
   ]
  },
  {
   "cell_type": "code",
   "execution_count": 31,
   "metadata": {
    "id": "YVeqfkkzm2th"
   },
   "outputs": [],
   "source": [
    "# Initialize and train model\n",
    "model = FlowControlRNN(vocab_size=len(vocab), embed_dim=50, hidden_dim=100, num_classes=2)"
   ]
  },
  {
   "cell_type": "code",
   "execution_count": 32,
   "metadata": {
    "colab": {
     "base_uri": "https://localhost:8080/",
     "height": 1000
    },
    "id": "FjNcmda2ntRc",
    "outputId": "c80c98cb-be54-4048-e726-e72f7a84c306"
   },
   "outputs": [
    {
     "name": "stdout",
     "output_type": "stream",
     "text": [
      "[Epoch 1/50] [Train Loss: 0.7457  Val Loss: 0.9741] [Train Acc: 52.00%  Val Acc: 52.00%]\n",
      "[Epoch 2/50] [Train Loss: 0.7276  Val Loss: 0.9389] [Train Acc: 55.60%  Val Acc: 53.00%]\n",
      "[Epoch 3/50] [Train Loss: 0.7174  Val Loss: 0.9522] [Train Acc: 60.00%  Val Acc: 53.00%]\n",
      "[Epoch 4/50] [Train Loss: 0.7072  Val Loss: 0.9577] [Train Acc: 61.20%  Val Acc: 52.00%]\n",
      "[Epoch 5/50] [Train Loss: 0.6935  Val Loss: 0.9801] [Train Acc: 61.20%  Val Acc: 53.00%]\n",
      "[Epoch 6/50] [Train Loss: 0.6765  Val Loss: 1.0275] [Train Acc: 64.20%  Val Acc: 53.00%]\n",
      "[Epoch 7/50] [Train Loss: 0.6566  Val Loss: 1.1015] [Train Acc: 66.20%  Val Acc: 50.00%]\n",
      "[Epoch 8/50] [Train Loss: 0.6365  Val Loss: 1.1734] [Train Acc: 68.00%  Val Acc: 50.00%]\n",
      "[Epoch 9/50] [Train Loss: 0.6161  Val Loss: 1.2306] [Train Acc: 69.60%  Val Acc: 50.00%]\n",
      "[Epoch 10/50] [Train Loss: 0.5934  Val Loss: 1.2828] [Train Acc: 72.40%  Val Acc: 52.00%]\n",
      "[Epoch 11/50] [Train Loss: 0.5662  Val Loss: 1.3313] [Train Acc: 75.20%  Val Acc: 51.00%]\n",
      "[Epoch 12/50] [Train Loss: 0.5340  Val Loss: 1.3613] [Train Acc: 75.60%  Val Acc: 52.00%]\n",
      "[Epoch 13/50] [Train Loss: 0.4956  Val Loss: 1.3494] [Train Acc: 77.40%  Val Acc: 51.00%]\n",
      "[Epoch 14/50] [Train Loss: 0.4556  Val Loss: 1.3589] [Train Acc: 79.80%  Val Acc: 53.00%]\n",
      "[Epoch 15/50] [Train Loss: 0.4214  Val Loss: 1.3957] [Train Acc: 81.00%  Val Acc: 54.00%]\n",
      "[Epoch 16/50] [Train Loss: 0.3880  Val Loss: 1.4332] [Train Acc: 82.40%  Val Acc: 53.00%]\n",
      "[Epoch 17/50] [Train Loss: 0.3579  Val Loss: 1.4434] [Train Acc: 85.00%  Val Acc: 50.00%]\n",
      "[Epoch 18/50] [Train Loss: 0.3257  Val Loss: 1.5802] [Train Acc: 85.40%  Val Acc: 52.00%]\n",
      "[Epoch 19/50] [Train Loss: 0.2881  Val Loss: 1.6974] [Train Acc: 87.20%  Val Acc: 58.00%]\n",
      "[Epoch 20/50] [Train Loss: 0.2639  Val Loss: 1.6163] [Train Acc: 87.20%  Val Acc: 59.00%]\n",
      "[Epoch 21/50] [Train Loss: 0.2564  Val Loss: 2.0025] [Train Acc: 87.00%  Val Acc: 53.00%]\n",
      "[Epoch 22/50] [Train Loss: 0.2488  Val Loss: 1.9226] [Train Acc: 88.20%  Val Acc: 54.00%]\n",
      "[Epoch 23/50] [Train Loss: 0.2256  Val Loss: 1.7172] [Train Acc: 89.00%  Val Acc: 56.00%]\n",
      "[Epoch 24/50] [Train Loss: 0.2334  Val Loss: 2.1402] [Train Acc: 89.60%  Val Acc: 54.00%]\n",
      "[Epoch 25/50] [Train Loss: 0.2189  Val Loss: 2.1138] [Train Acc: 89.20%  Val Acc: 57.00%]\n",
      "[Epoch 26/50] [Train Loss: 0.2346  Val Loss: 2.3351] [Train Acc: 89.00%  Val Acc: 57.00%]\n",
      "[Epoch 27/50] [Train Loss: 0.2259  Val Loss: 2.4740] [Train Acc: 88.60%  Val Acc: 59.00%]\n",
      "[Epoch 28/50] [Train Loss: 0.2316  Val Loss: 2.5161] [Train Acc: 89.20%  Val Acc: 56.00%]\n",
      "[Epoch 29/50] [Train Loss: 0.1878  Val Loss: 2.4959] [Train Acc: 90.80%  Val Acc: 52.00%]\n",
      "[Epoch 30/50] [Train Loss: 0.1782  Val Loss: 2.5280] [Train Acc: 91.00%  Val Acc: 56.00%]\n",
      "[Epoch 31/50] [Train Loss: 0.1790  Val Loss: 2.5483] [Train Acc: 89.80%  Val Acc: 55.00%]\n",
      "[Epoch 32/50] [Train Loss: 0.1667  Val Loss: 2.5448] [Train Acc: 91.60%  Val Acc: 54.00%]\n",
      "[Epoch 33/50] [Train Loss: 0.1676  Val Loss: 2.5980] [Train Acc: 90.40%  Val Acc: 54.00%]\n",
      "[Epoch 34/50] [Train Loss: 0.1637  Val Loss: 2.6487] [Train Acc: 90.20%  Val Acc: 54.00%]\n",
      "[Epoch 35/50] [Train Loss: 0.1611  Val Loss: 2.6745] [Train Acc: 90.60%  Val Acc: 53.00%]\n",
      "[Epoch 36/50] [Train Loss: 0.1605  Val Loss: 2.7150] [Train Acc: 90.20%  Val Acc: 53.00%]\n",
      "[Epoch 37/50] [Train Loss: 0.1588  Val Loss: 2.7419] [Train Acc: 90.40%  Val Acc: 53.00%]\n",
      "[Epoch 38/50] [Train Loss: 0.1571  Val Loss: 2.7763] [Train Acc: 90.60%  Val Acc: 52.00%]\n",
      "[Epoch 39/50] [Train Loss: 0.1561  Val Loss: 2.8071] [Train Acc: 90.60%  Val Acc: 52.00%]\n",
      "[Epoch 40/50] [Train Loss: 0.1550  Val Loss: 2.8350] [Train Acc: 90.80%  Val Acc: 52.00%]\n",
      "[Epoch 41/50] [Train Loss: 0.1540  Val Loss: 2.8626] [Train Acc: 91.00%  Val Acc: 52.00%]\n",
      "[Epoch 42/50] [Train Loss: 0.1531  Val Loss: 2.8884] [Train Acc: 90.80%  Val Acc: 52.00%]\n",
      "[Epoch 43/50] [Train Loss: 0.1523  Val Loss: 2.9137] [Train Acc: 90.80%  Val Acc: 52.00%]\n",
      "[Epoch 44/50] [Train Loss: 0.1516  Val Loss: 2.9372] [Train Acc: 90.80%  Val Acc: 52.00%]\n",
      "[Epoch 45/50] [Train Loss: 0.1509  Val Loss: 2.9601] [Train Acc: 90.80%  Val Acc: 52.00%]\n",
      "[Epoch 46/50] [Train Loss: 0.1502  Val Loss: 2.9815] [Train Acc: 90.80%  Val Acc: 52.00%]\n",
      "[Epoch 47/50] [Train Loss: 0.1497  Val Loss: 3.0024] [Train Acc: 90.80%  Val Acc: 53.00%]\n",
      "[Epoch 48/50] [Train Loss: 0.1491  Val Loss: 3.0221] [Train Acc: 90.80%  Val Acc: 53.00%]\n",
      "[Epoch 49/50] [Train Loss: 0.1486  Val Loss: 3.0413] [Train Acc: 90.80%  Val Acc: 53.00%]\n",
      "[Epoch 50/50] [Train Loss: 0.1481  Val Loss: 3.0594] [Train Acc: 90.80%  Val Acc: 54.00%]\n"
     ]
    },
    {
     "data": {
      "image/png": "[encoded data removed]",
      "text/plain": [
       "<Figure size 1000x500 with 2 Axes>"
      ]
     },
     "metadata": {},
     "output_type": "display_data"
    }
   ],
   "source": [
    "train_and_evaluate(\n",
    "    model,\n",
    "    train_sentences,\n",
    "    train_lengths,\n",
    "    train_labels,\n",
    "    val_sentences,\n",
    "    val_lengths,\n",
    "    val_labels,\n",
    "    epochs=50,\n",
    "    batch_size=32\n",
    ")"
   ]
  },
  {
   "cell_type": "markdown",
   "metadata": {
    "id": "gwwyCmsdq5gw"
   },
   "source": [
    "We can see that the training loss decreases steadily while the validation loss increases, indicating a clear divergence that confirms overfitting as we aimed for in the task.\n",
    "\n",
    "The training accuracy rises demonstrating the model's ability to learn the small effectively, while the validation accuracy fluctuate while remaining significantly lower and aligning with the expectation of poor generalization due to overfitting. This showcasing that the model can learn and memorize the training data."
   ]
  }
 ],
 "metadata": {
  "colab": {
   "provenance": []
  },
  "kernelspec": {
   "display_name": "Python 3 (ipykernel)",
   "language": "python",
   "name": "python3"
  },
  "language_info": {
   "codemirror_mode": {
    "name": "ipython",
    "version": 3
   },
   "file_extension": ".py",
   "mimetype": "text/x-python",
   "name": "python",
   "nbconvert_exporter": "python",
   "pygments_lexer": "ipython3",
   "version": "3.12.5"
  }
 },
 "nbformat": 4,
 "nbformat_minor": 4
}
